{
 "cells": [
  {
   "cell_type": "markdown",
   "metadata": {
    "id": "mzUJYZnzH5_Y",
    "colab_type": "text"
   },
   "source": [
    "## MNIST\n",
    "They say MNIST data is the 'hello world' of deeplearning.\n",
    "The input is a collection of images of hand-written digits and the target is the digit itself.\n",
    "Historically, this data was used to train algorithms which could then automatically predict the \n",
    "zip-code digits on the posts.\n",
    "Let's understand the data before you create your first neural network for digit recognition\n",
    "\n",
    "The data set has 60000 rows (each row is an 'image') and 785 attributes\n",
    "The the first 784 are pixel values which are unrolled row wise , while the last attribute/column is the target\n",
    "Hence,\n",
    "pixel0 - pixel27 are pixel values of the first row in the image,   \n",
    "pixel28 - pixel55 are pixel values of the second row in the image,  \n",
    "and so on... for 28 rows of pixels values"
   ]
  },
  {
   "cell_type": "code",
   "execution_count": 0,
   "metadata": {
    "id": "7OnvjDXOH5_c",
    "colab_type": "code",
    "colab": {},
    "outputId": "dffb2343-48f7-4276-b7a7-0ea1e3ba1c04"
   },
   "outputs": [
    {
     "name": "stdout",
     "output_type": "stream",
     "text": [
      "(60000, 785)\n",
      "Index([u'pixel0', u'pixel1', u'pixel2', u'pixel3', u'pixel4', u'pixel5',\n",
      "       u'pixel6', u'pixel7', u'pixel8', u'pixel9',\n",
      "       ...\n",
      "       u'pixel775', u'pixel776', u'pixel777', u'pixel778', u'pixel779',\n",
      "       u'pixel780', u'pixel781', u'pixel782', u'pixel783', u'label'],\n",
      "      dtype='object', length=785)\n"
     ]
    }
   ],
   "source": [
    "import numpy as np        \n",
    "import pandas as pd\n",
    "#read the data\n",
    "train = pd.read_csv('MNIST Train Test/train.csv')\n",
    "print(train.shape)\n",
    "print(train.columns)"
   ]
  },
  {
   "cell_type": "markdown",
   "metadata": {
    "id": "zFUpD85kH5_s",
    "colab_type": "text"
   },
   "source": [
    "### Visualization\n",
    "Let's pick a random row (1433) and view the image corresponding to that row.\n",
    "Change the row number between 0 and 59999 to understand how "
   ]
  },
  {
   "cell_type": "code",
   "execution_count": 0,
   "metadata": {
    "id": "hE6f9OvdH5_u",
    "colab_type": "code",
    "colab": {},
    "outputId": "908fd964-37df-40b2-f604-b618d87d1d54"
   },
   "outputs": [
    {
     "data": {
      "text/plain": [
       "<matplotlib.image.AxesImage at 0x131f8978>"
      ]
     },
     "execution_count": 2,
     "metadata": {
      "tags": []
     },
     "output_type": "execute_result"
    },
    {
     "data": {
      "image/png": "[encoded data removed]",
      "text/plain": [
       "<matplotlib.figure.Figure at 0x8bbbef0>"
      ]
     },
     "metadata": {
      "tags": []
     },
     "output_type": "display_data"
    }
   ],
   "source": [
    "sample_row = 1433 #Some row picked\n",
    "\n",
    "sample_row = train.iloc[sample_row,:-1] # We skip the last column because it's the target column\n",
    "transformed_row = sample_row.values.reshape(28, 28) # reshape to 28*28\n",
    "\n",
    "# now plot the image with matplotlib\n",
    "import matplotlib.pyplot as plt\n",
    "%matplotlib inline\n",
    "plt.imshow(transformed_row, cmap = 'gray_r')\n"
   ]
  },
  {
   "cell_type": "markdown",
   "metadata": {
    "id": "L94vq2MxH5_0",
    "colab_type": "text"
   },
   "source": [
    "Build a neural network on the train dataset of MNIST images\n",
    "\n",
    "\n",
    "Here are some things you could experiment with \n",
    "* Number of layers\n",
    "* Size of each layer\n",
    "* Activation of each layer\n",
    "* Learning rate\n",
    "\n",
    "The accuracy on test dataset should exceed 95% \n",
    "\n"
   ]
  },
  {
   "cell_type": "code",
   "execution_count": 0,
   "metadata": {
    "id": "KXnz3aCwH5_1",
    "colab_type": "code",
    "colab": {},
    "outputId": "d4f8ca99-5c48-46eb-dd45-947d38391a95"
   },
   "outputs": [
    {
     "name": "stderr",
     "output_type": "stream",
     "text": [
      "Using Theano backend.\n"
     ]
    }
   ],
   "source": [
    "X = train.drop(['label'], axis = 1, inplace=False)  # store pixel values in X\n",
    "y = train['label']                                  # store the label in y\n",
    "\n",
    "# import np_utils\n",
    "from keras.utils import np_utils\n",
    "y_cat = np_utils.to_categorical(y)                  # change the target variable as a categorical variable\n",
    "\n",
    "# now split the data to train and validation \n",
    "import sklearn\n",
    "from sklearn.model_selection import train_test_split    \n",
    "X_train, X_val, y_train, y_val = train_test_split(X, y_cat, test_size = 0.33, random_state = 33)\n",
    "\n",
    "# store as numpy arrays\n",
    "X_train = np.array(X_train)\n",
    "y_train = np.array(y_train)\n",
    "X_val = np.array(X_val)\n",
    "y_val = np.array(y_val)"
   ]
  },
  {
   "cell_type": "code",
   "execution_count": 0,
   "metadata": {
    "id": "ZeAaiY_KH5_8",
    "colab_type": "code",
    "colab": {},
    "outputId": "03398d7c-b20f-4aff-9a21-36bd63e5a849"
   },
   "outputs": [
    {
     "name": "stdout",
     "output_type": "stream",
     "text": [
      "Index([u'pixel0', u'pixel1', u'pixel2', u'pixel3', u'pixel4', u'pixel5',\n",
      "       u'pixel6', u'pixel7', u'pixel8', u'pixel9',\n",
      "       ...\n",
      "       u'pixel775', u'pixel776', u'pixel777', u'pixel778', u'pixel779',\n",
      "       u'pixel780', u'pixel781', u'pixel782', u'pixel783', u'label'],\n",
      "      dtype='object', length=785)\n"
     ]
    }
   ],
   "source": [
    "# read the test data\n",
    "test = pd.read_csv('MNIST Train Test/test.csv')\n",
    "\n",
    "print(test.columns)\n",
    "# pixels and target \n",
    "X_test = test.drop(['label'], axis = 1, inplace=False)\n",
    "y_test = test['label']\n",
    "\n",
    "# to categorical\n",
    "y_test_cat = np_utils.to_categorical(y_test)\n",
    "\n",
    "# numpy arrays\n",
    "X_test = np.array(X_test)\n",
    "y_test_cat = np.array(y_test_cat)"
   ]
  },
  {
   "cell_type": "code",
   "execution_count": 0,
   "metadata": {
    "id": "RaLXKZf7H6AD",
    "colab_type": "code",
    "colab": {}
   },
   "outputs": [],
   "source": [
    "# import required packages\n",
    "from keras.models import Sequential    # model       \n",
    "from keras.layers import Dense         # layer\n",
    "from keras.optimizers import Adam      # Optimizer"
   ]
  },
  {
   "cell_type": "markdown",
   "metadata": {
    "id": "lIEqk3r7H6AH",
    "colab_type": "text"
   },
   "source": [
    "Lets build a model with out any hidden layer"
   ]
  },
  {
   "cell_type": "code",
   "execution_count": 0,
   "metadata": {
    "id": "lqdqfTqsH6AI",
    "colab_type": "code",
    "colab": {},
    "outputId": "b975f8bd-73d5-499c-b637-b8c474de8666"
   },
   "outputs": [
    {
     "name": "stderr",
     "output_type": "stream",
     "text": [
      "C:\\Users\\sudhi\\Anaconda2\\lib\\site-packages\\ipykernel\\__main__.py:2: UserWarning: Update your `Dense` call to the Keras 2 API: `Dense(200, activation=\"relu\", kernel_initializer=\"uniform\", input_dim=784)`\n",
      "  from ipykernel import kernelapp as app\n",
      "C:\\Users\\sudhi\\Anaconda2\\lib\\site-packages\\ipykernel\\__main__.py:3: UserWarning: Update your `Dense` call to the Keras 2 API: `Dense(100, activation=\"relu\", kernel_initializer=\"uniform\")`\n",
      "  app.launch_new_instance()\n"
     ]
    },
    {
     "name": "stdout",
     "output_type": "stream",
     "text": [
      "_________________________________________________________________\n",
      "Layer (type)                 Output Shape              Param #   \n",
      "=================================================================\n",
      "dense_1 (Dense)              (None, 200)               157000    \n",
      "_________________________________________________________________\n",
      "dense_2 (Dense)              (None, 100)               20100     \n",
      "_________________________________________________________________\n",
      "dense_3 (Dense)              (None, 10)                1010      \n",
      "=================================================================\n",
      "Total params: 178,110\n",
      "Trainable params: 178,110\n",
      "Non-trainable params: 0\n",
      "_________________________________________________________________\n"
     ]
    }
   ],
   "source": [
    "hidden_model = Sequential()  # initiate the model\n",
    "hidden_model.add(Dense(200, init='uniform', input_dim = 784, activation='relu')) # input layer\n",
    "hidden_model.add(Dense(100, init='uniform', activation='relu'))                  # hidden layer\n",
    "hidden_model.add(Dense(10, activation = 'softmax'))                              #output layer\n",
    "hidden_model.compile(loss = 'categorical_crossentropy', optimizer = Adam(lr = 0.001), metrics = ['accuracy'])\n",
    "\n",
    "hidden_model.summary()"
   ]
  },
  {
   "cell_type": "code",
   "execution_count": 0,
   "metadata": {
    "id": "K_flkvl1H6AR",
    "colab_type": "code",
    "colab": {},
    "outputId": "a8ad037d-0842-4149-96bb-8f2331569788"
   },
   "outputs": [
    {
     "name": "stdout",
     "output_type": "stream",
     "text": [
      "Train on 40200 samples, validate on 19800 samples\n",
      "Epoch 1/20\n",
      "3s - loss: 8.8491 - acc: 0.3660 - val_loss: 6.2211 - val_acc: 0.5549\n",
      "Epoch 2/20\n",
      "2s - loss: 5.4938 - acc: 0.6068 - val_loss: 4.1009 - val_acc: 0.6693\n",
      "Epoch 3/20\n",
      "2s - loss: 3.2305 - acc: 0.7351 - val_loss: 2.1218 - val_acc: 0.7918\n",
      "Epoch 4/20\n",
      "2s - loss: 1.6316 - acc: 0.8320 - val_loss: 1.1741 - val_acc: 0.8732\n",
      "Epoch 5/20\n",
      "2s - loss: 0.9670 - acc: 0.8900 - val_loss: 0.8127 - val_acc: 0.9024\n",
      "Epoch 6/20\n",
      "2s - loss: 0.6651 - acc: 0.9162 - val_loss: 0.6431 - val_acc: 0.9164\n",
      "Epoch 7/20\n",
      "2s - loss: 0.5136 - acc: 0.9300 - val_loss: 0.5351 - val_acc: 0.9239\n",
      "Epoch 8/20\n",
      "2s - loss: 0.4099 - acc: 0.9381 - val_loss: 0.4641 - val_acc: 0.9282\n",
      "Epoch 9/20\n",
      "2s - loss: 0.3377 - acc: 0.9447 - val_loss: 0.4169 - val_acc: 0.9286\n",
      "Epoch 10/20\n",
      "2s - loss: 0.2800 - acc: 0.9491 - val_loss: 0.3798 - val_acc: 0.9320\n",
      "Epoch 11/20\n",
      "2s - loss: 0.2398 - acc: 0.9541 - val_loss: 0.3488 - val_acc: 0.9349\n",
      "Epoch 12/20\n",
      "2s - loss: 0.2018 - acc: 0.9613 - val_loss: 0.3200 - val_acc: 0.9383\n",
      "Epoch 13/20\n",
      "2s - loss: 0.1737 - acc: 0.9651 - val_loss: 0.3050 - val_acc: 0.9399\n",
      "Epoch 14/20\n",
      "2s - loss: 0.1490 - acc: 0.9691 - val_loss: 0.2911 - val_acc: 0.9409\n",
      "Epoch 15/20\n",
      "2s - loss: 0.1313 - acc: 0.9735 - val_loss: 0.2775 - val_acc: 0.9437\n",
      "Epoch 16/20\n",
      "2s - loss: 0.1157 - acc: 0.9767 - val_loss: 0.2748 - val_acc: 0.9449\n",
      "Epoch 17/20\n",
      "2s - loss: 0.1022 - acc: 0.9798 - val_loss: 0.2633 - val_acc: 0.9462\n",
      "Epoch 18/20\n",
      "2s - loss: 0.0914 - acc: 0.9823 - val_loss: 0.2615 - val_acc: 0.9458\n",
      "Epoch 19/20\n",
      "2s - loss: 0.0816 - acc: 0.9842 - val_loss: 0.2564 - val_acc: 0.9471\n",
      "Epoch 20/20\n",
      "2s - loss: 0.0734 - acc: 0.9867 - val_loss: 0.2505 - val_acc: 0.9480\n"
     ]
    }
   ],
   "source": [
    "# train the model\n",
    "history2 = hidden_model.fit(X_train, y_train, batch_size=6000, epochs=20, verbose = 2, \n",
    "                    validation_data=(X_val, y_val))"
   ]
  },
  {
   "cell_type": "code",
   "execution_count": 0,
   "metadata": {
    "id": "FtSWG9FvH6Aa",
    "colab_type": "code",
    "colab": {},
    "outputId": "da418844-0cd9-4a5b-942b-24c690799276"
   },
   "outputs": [
    {
     "data": {
      "text/plain": [
       "<matplotlib.legend.Legend at 0x2038bef0>"
      ]
     },
     "execution_count": 8,
     "metadata": {
      "tags": []
     },
     "output_type": "execute_result"
    },
    {
     "data": {
      "image/png": "[encoded data removed]",
      "text/plain": [
       "<matplotlib.figure.Figure at 0x23000630>"
      ]
     },
     "metadata": {
      "tags": []
     },
     "output_type": "display_data"
    }
   ],
   "source": [
    "plt.figure(figsize=(15,10))\n",
    "plt.plot(history2.history['loss'], label = 'train loss')\n",
    "plt.plot(history2.history['val_loss'], label = 'val loss')\n",
    "plt.legend()"
   ]
  },
  {
   "cell_type": "code",
   "execution_count": 0,
   "metadata": {
    "id": "yLc7g30UH6Ag",
    "colab_type": "code",
    "colab": {},
    "outputId": "5ab1eae9-ce89-4968-a482-af413bc907a5"
   },
   "outputs": [
    {
     "name": "stdout",
     "output_type": "stream",
     "text": [
      " 9696/10000 [============================>.] - ETA: 0s"
     ]
    },
    {
     "data": {
      "text/plain": [
       "0.95209999999999995"
      ]
     },
     "execution_count": 9,
     "metadata": {
      "tags": []
     },
     "output_type": "execute_result"
    }
   ],
   "source": [
    "#predicton test data\n",
    "hidden_predictions = hidden_model.predict_classes(X_test)\n",
    "\n",
    "# find the acuracy of predictions\n",
    "from sklearn.metrics import accuracy_score\n",
    "accuracy_score(y_test, hidden_predictions)"
   ]
  },
  {
   "cell_type": "code",
   "execution_count": 0,
   "metadata": {
    "id": "eZX1HWfOH6Am",
    "colab_type": "code",
    "colab": {}
   },
   "outputs": [],
   "source": [
    ""
   ]
  }
 ],
 "metadata": {
  "colab": {
   "name": "MNIST Data Case study.ipynb",
   "version": "0.3.2",
   "provenance": []
  },
  "kernelspec": {
   "display_name": "Python 2",
   "language": "python",
   "name": "python2"
  }
 },
 "nbformat": 4,
 "nbformat_minor": 0
}
